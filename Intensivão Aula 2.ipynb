{
 "cells": [
  {
   "cell_type": "code",
   "execution_count": null,
   "id": "40110206",
   "metadata": {},
   "outputs": [],
   "source": [
    "#importando as bibliotecas\n",
    "\n",
    "import pandas as pd\n",
    "import plotly.express as px"
   ]
  },
  {
   "cell_type": "markdown",
   "id": "cd8a8948",
   "metadata": {},
   "source": [
    "Desafio: \n",
    "Você trabalha em uma empresa de telecom e tem clientes de vários serviços diferentes, entre os principais, internet e telefone.\n",
    "O problema é que analisando o histórico dos clientes dos ultimos anos, você percebeu que a emrpesa está com churn de mais de 26% dos clientes\n",
    "\n",
    "O que a empresa precisa fazer? "
   ]
  },
  {
   "cell_type": "code",
   "execution_count": null,
   "id": "74a825b0",
   "metadata": {},
   "outputs": [],
   "source": [
    "#passo 1: Importar as bases de dados da empresa\n",
    "tabela = pd.read_csv('telecom_users.csv')\n",
    "\n",
    "#passo 2: Visualizar as bases de dados\n",
    "tabela = tabela.drop('Unnamed: 0', axis =1)\n",
    "display(tabela)"
   ]
  },
  {
   "cell_type": "code",
   "execution_count": null,
   "id": "8a5936df",
   "metadata": {},
   "outputs": [],
   "source": [
    "#passo 3: Tratamento de dados\n",
    "tabela['TotalGasto'] = pd.to_numeric(tabela['TotalGasto'], errors='coerce')\n",
    "\n",
    "#deletetando as colunas completamente vazias\n",
    "tabela = tabela.dropna(how='all', axis=1)\n",
    "\n",
    "#deletetando as linhas com pelo menos 1 valor vazio\n",
    "tabela = tabela.dropna(how='any', axis=0)\n",
    "\n",
    "print (tabela.info())\n"
   ]
  },
  {
   "cell_type": "code",
   "execution_count": null,
   "id": "84be1e41",
   "metadata": {},
   "outputs": [],
   "source": [
    "#passo 4: Analise inicial \n",
    "print(tabela['Churn'].value_counts())\n",
    "print(tabela['Churn'].value_counts(normalize=True))\n"
   ]
  },
  {
   "cell_type": "code",
   "execution_count": null,
   "id": "4fc2f8b7",
   "metadata": {},
   "outputs": [],
   "source": [
    "#passo 5: Análise completa\n",
    "#como cada coluna da base de dados impacta no cancelamento\n",
    "\n",
    "for coluna in tabela.columns:\n",
    "    #criando o gráfico\n",
    "    grafico = px.histogram(tabela,x=coluna, color ='Churn', text_auto=True)\n",
    "    #exibindo o gráfico\n",
    "    grafico.show()"
   ]
  },
  {
   "cell_type": "code",
   "execution_count": null,
   "id": "a9c3efd4",
   "metadata": {},
   "outputs": [],
   "source": []
  }
 ],
 "metadata": {
  "kernelspec": {
   "display_name": "Python 3 (ipykernel)",
   "language": "python",
   "name": "python3"
  },
  "language_info": {
   "codemirror_mode": {
    "name": "ipython",
    "version": 3
   },
   "file_extension": ".py",
   "mimetype": "text/x-python",
   "name": "python",
   "nbconvert_exporter": "python",
   "pygments_lexer": "ipython3",
   "version": "3.9.12"
  }
 },
 "nbformat": 4,
 "nbformat_minor": 5
}
